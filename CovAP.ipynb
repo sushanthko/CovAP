{
 "cells": [
  {
   "cell_type": "markdown",
   "metadata": {},
   "source": [
    "# COVID-19 Analysis Platform"
   ]
  },
  {
   "cell_type": "code",
   "execution_count": 1,
   "metadata": {},
   "outputs": [],
   "source": [
    "from jupyter_dash import JupyterDash"
   ]
  },
  {
   "cell_type": "code",
   "execution_count": 2,
   "metadata": {},
   "outputs": [],
   "source": [
    "import dash\n",
    "import dash_core_components as dcc\n",
    "import dash_html_components as html\n",
    "import pandas as pd\n",
    "import dash_bootstrap_components as dbc\n",
    "import dash_table as dt"
   ]
  },
  {
   "cell_type": "markdown",
   "metadata": {},
   "source": [
    "Load and preprocess data"
   ]
  },
  {
   "cell_type": "code",
   "execution_count": 3,
   "metadata": {},
   "outputs": [],
   "source": [
    "df = pd.read_csv(\"owid-covid-data.csv\")"
   ]
  },
  {
   "cell_type": "code",
   "execution_count": 4,
   "metadata": {
    "scrolled": false
   },
   "outputs": [],
   "source": [
    "countries = df.location.unique()"
   ]
  },
  {
   "cell_type": "markdown",
   "metadata": {},
   "source": [
    "Construct the app and callbacks"
   ]
  },
  {
   "cell_type": "code",
   "execution_count": 25,
   "metadata": {},
   "outputs": [],
   "source": [
    "external_stylesheets = ['https://codepen.io/chriddyp/pen/bWLwgP.css']\n",
    "\n",
    "# app = JupyterDash(__name__, external_stylesheets=external_stylesheets)\n",
    "app = JupyterDash(__name__, external_stylesheets=[dbc.themes.BOOTSTRAP])\n",
    "\n",
    "# Create server variable with Flask server object for use with gunicorn\n",
    "server = app.server\n",
    "\n",
    "dpm_countries = 20\n",
    "\n",
    "dft = df[df.groupby(['location']).date.transform('max') == df.date]\n",
    "dft = dft[['location', 'continent', 'total_cases', 'new_cases', 'total_deaths', 'new_deaths']]\n",
    "\n",
    "app.layout = html.Div([ \n",
    "    \n",
    "    html.H1(\"CovAP dashboard\", className=\"text-center\"),\n",
    "    \n",
    "    html.H2(\"Country wise daily statistics\"),\n",
    "    \n",
    "    html.Label(\"Select country:\"),\n",
    "        \n",
    "    # Country drop down\n",
    "    html.Div(\n",
    "         html.Div(dcc.Dropdown(\n",
    "                id='country-input',\n",
    "                options=[{'label': i, 'value': i} for i in countries],\n",
    "                value='Norway'\n",
    "            ),\n",
    "        style={'width': '49%', 'display': 'inline-block'}),\n",
    "    ),\n",
    "\n",
    "    html.Div([dcc.Graph(id='daily-cases'),\n",
    "        ], style={'width': '49%', 'display': 'inline-block', 'padding': '0 20'}),\n",
    "    html.Div([dcc.Graph(id='daily-deaths')\n",
    "        ], style={'width': '49%', 'display': 'inline-block', 'padding': '0 20'}),\n",
    "    \n",
    "    html.H2(\"Analysis of top \" +str(dpm_countries)+\" countries with highest deaths per million\"),\n",
    "    \n",
    "    html.Div(dcc.RadioItems(\n",
    "                id='parameter',\n",
    "                options=[{'label': i, 'value': i} for i in ['Hospital beds per thousand', 'Aged 65 or older(%)']],\n",
    "                value='Hospital beds per thousand',\n",
    "#                 labelStyle={'display': 'inline-block'}\n",
    "            )),\n",
    "    html.Div(dcc.Graph(id='deaths-per-million')),\n",
    "    \n",
    "    html.H2(\"Latest infection data\"),\n",
    "    html.P(\"Last updated on: \"+df.date.max()),\n",
    "    \n",
    "    html.Div(\n",
    "        dt.DataTable(\n",
    "        data=dft.to_dict('records'),\n",
    "        columns=[{'id': c, 'name': c.title().replace('_', ' ')} for c in dft.columns],\n",
    "        page_size=10,\n",
    "        sort_action='native',\n",
    "        filter_action=\"native\",\n",
    "        sort_by=[{\n",
    "            \"column_id\": 'total_cases',\n",
    "            \"direction\": \"desc\"\n",
    "                }],\n",
    "        style_cell_conditional=[\n",
    "        {\n",
    "            'if': {'column_id': c},\n",
    "            'textAlign': 'left'\n",
    "        } for c in ['Date', 'Region']\n",
    "        ],\n",
    "        style_data_conditional=[\n",
    "            {\n",
    "                'if': {'row_index': 'odd'},\n",
    "                'backgroundColor': 'rgb(248, 248, 248)'\n",
    "            },\n",
    "            {\n",
    "            'if': {\n",
    "                'filter_query': '{location} = \"World\"'\n",
    "            },\n",
    "            'backgroundColor': 'grey',\n",
    "            'color': 'white'\n",
    "            }\n",
    "        ],\n",
    "        style_header={\n",
    "            'backgroundColor': 'rgb(230, 230, 230)',\n",
    "            'fontWeight': 'bold'\n",
    "        },\n",
    "    \n",
    "    ), className=\"container-fluid\")\n",
    "])\n",
    "\n",
    "\n",
    "@app.callback([\n",
    "    dash.dependencies.Output('daily-cases', 'figure'),\n",
    "    dash.dependencies.Output('daily-deaths', 'figure'),\n",
    "    dash.dependencies.Output('deaths-per-million', 'figure'),\n",
    "],\n",
    "[\n",
    "    dash.dependencies.Input('country-input', 'value'),\n",
    "    dash.dependencies.Input('parameter', 'value')\n",
    "])\n",
    "def update_graph(country, parameter):\n",
    "    dff = df[df.location == country]\n",
    "    test = df[['location', 'date', 'total_deaths_per_million', 'hospital_beds_per_thousand', 'aged_65_older', 'population']]\n",
    "    test = test[test.groupby(['location']).date.transform('max') == df.date]\n",
    "    data = test.dropna().reset_index().sort_values(\"total_deaths_per_million\", ascending=False).head(dpm_countries)\n",
    "   \n",
    "    figure1 =  {\n",
    "        'data': [dict(\n",
    "            x=dff.date,\n",
    "            y=dff.new_cases,\n",
    "#             text=country,\n",
    "#             customdata='Test',\n",
    "            type='bar',\n",
    "#             mode='markers',\n",
    "            marker={\n",
    "#                 'size': 25,\n",
    "#                 'opacity': 0.7,\n",
    "                'color': 'grey',\n",
    "#                 'line': {'width': 2, 'color': 'purple'}\n",
    "            }\n",
    "        )],\n",
    "        'layout': dict(\n",
    "            margin={'l': 40, 'b': 30, 't': 60, 'r': 0},\n",
    "#             height=450,\n",
    "            hovermode='closest',\n",
    "            title={\n",
    "            'text': \"Daily new cases\",\n",
    "            'y':0.9,\n",
    "            'x':0.5,\n",
    "            'xanchor': 'center',\n",
    "            'yanchor': 'top',\n",
    "            'font': dict(size=20)\n",
    "            }\n",
    "        )\n",
    "    }\n",
    "    \n",
    "    figure2 =  {\n",
    "        'data': [dict(\n",
    "            x=dff.date,\n",
    "            y=dff.new_deaths,\n",
    "#             text=country,\n",
    "#             customdata='Test',\n",
    "            type='bar',\n",
    "            marker={\n",
    "                'color': 'grey'\n",
    "            }\n",
    "        )],\n",
    "        'layout': dict(\n",
    "            margin={'l': 40, 'b': 30, 't': 60, 'r': 0},\n",
    "#             height=450,\n",
    "            hovermode='closest',\n",
    "            title={\n",
    "            'text': \"Daily new deaths\",\n",
    "            'y':0.9,\n",
    "            'x':0.5,\n",
    "            'xanchor': 'center',\n",
    "            'yanchor': 'top',\n",
    "            'font': dict(size=20)\n",
    "            }\n",
    "        )\n",
    "    }\n",
    "    \n",
    "    y = data.hospital_beds_per_thousand\n",
    "    if(parameter == \"Aged 65 or older(%)\"):\n",
    "        y = data.aged_65_older\n",
    "    \n",
    "    figure3 =  {\n",
    "        'data': [\n",
    "                dict(\n",
    "            x=data.location,\n",
    "            y=y,\n",
    "#             name=parameter,\n",
    "#             customdata='Total deaths per million: '+str(data.total_deaths_per_million),\n",
    "            type='bar',\n",
    "#             mode='markers',\n",
    "            marker={\n",
    "#                 'size': 25,\n",
    "#                 'opacity': 0.7,\n",
    "                'color': 'orange',\n",
    "#                 'line': {'width': 2, 'color': 'purple'}\n",
    "            },\n",
    "            hovertext=\"Total deaths per million: \"+data.total_deaths_per_million.round(2).astype(str),\n",
    "        )],\n",
    "        'layout': dict(\n",
    "#             margin={'l': 40, 'b': 30, 't': 10, 'r': 0},\n",
    "#             height=450,\n",
    "#             hovermode='closest',\n",
    "            title= parameter\n",
    "        )\n",
    "    }\n",
    "   \n",
    "    \n",
    "    return figure1, figure2, figure3\n",
    "\n",
    "\n"
   ]
  },
  {
   "cell_type": "code",
   "execution_count": 26,
   "metadata": {},
   "outputs": [
    {
     "name": "stdout",
     "output_type": "stream",
     "text": [
      "Dash app running on http://127.0.0.1:8050/\n"
     ]
    }
   ],
   "source": [
    "app.run_server()"
   ]
  },
  {
   "cell_type": "markdown",
   "metadata": {},
   "source": [
    "Serve the app using `run_server`.  Unlike the standard `Dash.run_server` method, the `JupyterDash.run_server` method doesn't block execution of the notebook. It serves the app in a background thread, making it possible to run other notebook calculations while the app is running.\n",
    "\n",
    "This makes it possible to iterativly update the app without rerunning the potentially expensive data processing steps."
   ]
  },
  {
   "cell_type": "code",
   "execution_count": null,
   "metadata": {},
   "outputs": [],
   "source": [
    "print(app._terminate_server_for_port(host='127.0.0.1',port='8050'))"
   ]
  },
  {
   "cell_type": "code",
   "execution_count": null,
   "metadata": {},
   "outputs": [],
   "source": [
    "# df[df.total_deaths_per_million.notna()].total_deaths_per_million\n",
    "\n",
    "dpm =  df[['location', 'date', 'total_deaths_per_million', 'population_density']].groupby(['location']).last().dropna().reset_index().sort_values(\"total_deaths_per_million\", ascending=False).head(10)\n",
    "top = df[df.location.isin(dpm.location)]\n",
    "f = top[top.groupby(['location']).date.transform('max') == top.date]\n",
    "top.groupby(['location']).last()\n"
   ]
  },
  {
   "cell_type": "code",
   "execution_count": null,
   "metadata": {},
   "outputs": [],
   "source": [
    "f"
   ]
  },
  {
   "cell_type": "markdown",
   "metadata": {},
   "source": [
    "By default, `run_server` displays a URL that you can click on to open the app in a browser tab. The `mode` argument to `run_server` can be used to change this behavior.  Setting `mode=\"inline\"` will display the app directly in the notebook output cell."
   ]
  },
  {
   "cell_type": "code",
   "execution_count": null,
   "metadata": {},
   "outputs": [],
   "source": [
    "app.run_server(mode=\"inline\")"
   ]
  },
  {
   "cell_type": "markdown",
   "metadata": {},
   "source": [
    "When running in JupyterLab, with the `jupyterlab-dash` extension, setting `mode=\"jupyterlab\"` will open the app in a tab in JupyterLab.\n",
    "\n",
    "```python\n",
    "app.run_server(mode=\"jupyterlab\")\n",
    "```"
   ]
  },
  {
   "cell_type": "code",
   "execution_count": null,
   "metadata": {},
   "outputs": [],
   "source": []
  }
 ],
 "metadata": {
  "jupytext": {
   "formats": "ipynb,py:percent"
  },
  "kernelspec": {
   "display_name": "Python 3",
   "language": "python",
   "name": "python3"
  },
  "language_info": {
   "codemirror_mode": {
    "name": "ipython",
    "version": 3
   },
   "file_extension": ".py",
   "mimetype": "text/x-python",
   "name": "python",
   "nbconvert_exporter": "python",
   "pygments_lexer": "ipython3",
   "version": "3.8.5"
  }
 },
 "nbformat": 4,
 "nbformat_minor": 4
}
