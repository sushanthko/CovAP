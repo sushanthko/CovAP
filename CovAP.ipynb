{
 "cells": [
  {
   "cell_type": "markdown",
   "metadata": {},
   "source": [
    "# COVID-19 Analysis Platform"
   ]
  },
  {
   "cell_type": "code",
   "execution_count": 950,
   "metadata": {},
   "outputs": [],
   "source": [
    "from jupyter_dash import JupyterDash"
   ]
  },
  {
   "cell_type": "code",
   "execution_count": 951,
   "metadata": {},
   "outputs": [],
   "source": [
    "import dash\n",
    "import dash_core_components as dcc\n",
    "import dash_html_components as html\n",
    "import pandas as pd\n",
    "import dash_bootstrap_components as dbc\n",
    "import dash_table as dt\n",
    "from dash.dependencies import Input, Output"
   ]
  },
  {
   "cell_type": "code",
   "execution_count": 952,
   "metadata": {},
   "outputs": [],
   "source": [
    "debug=True"
   ]
  },
  {
   "cell_type": "code",
   "execution_count": 953,
   "metadata": {},
   "outputs": [],
   "source": [
    "df = pd.read_csv(\"owid-covid-data.csv\")"
   ]
  },
  {
   "cell_type": "code",
   "execution_count": 954,
   "metadata": {
    "scrolled": false
   },
   "outputs": [],
   "source": [
    "countries = df.location.unique()"
   ]
  },
  {
   "cell_type": "code",
   "execution_count": 955,
   "metadata": {},
   "outputs": [],
   "source": [
    "dpm_countries = 20\n",
    "\n",
    "dft = df[df.groupby(['location']).date.transform('max') == df.date]\n",
    "dft = dft[['location', 'continent', 'total_cases', 'new_cases', 'total_deaths', 'new_deaths']]\n"
   ]
  },
  {
   "cell_type": "code",
   "execution_count": 956,
   "metadata": {},
   "outputs": [],
   "source": [
    "header = html.H1(\"CovAP dashboard\")\n",
    "last_updated = html.H6(\"Last updated on: \"+df.date.max(),className=\"text-right\")"
   ]
  },
  {
   "cell_type": "code",
   "execution_count": 957,
   "metadata": {},
   "outputs": [],
   "source": [
    "# Daily stats tab content\n",
    "daily_stats_div = html.Div([\n",
    "    \n",
    "    html.Div(html.Div(html.Label(\"Select country\"), className=\"col\"), className=\"row\"),\n",
    "        \n",
    "    html.Div(html.Div(dcc.Dropdown(\n",
    "            id='country-input',\n",
    "            options=[{'label': i, 'value': i} for i in countries],\n",
    "            value='Norway',\n",
    "            clearable=False,\n",
    "    ), className=\"col-3\"), className=\"row\"),\n",
    "    \n",
    "    html.Div([\n",
    "        \n",
    "        html.Div(dcc.Graph(id='daily-cases'), className=\"col\"),\n",
    "        \n",
    "        html.Div(dcc.Graph(id='daily-deaths'), className=\"col\"),\n",
    "        \n",
    "    ], className=\"row\"),\n",
    "    \n",
    "], className=\"container-fluid\")"
   ]
  },
  {
   "cell_type": "code",
   "execution_count": 958,
   "metadata": {},
   "outputs": [],
   "source": [
    "# World data tab cotent\n",
    "world_data_div = html.Div([\n",
    "    \n",
    "    html.Div(html.Div(html.H2(\"Latest infection data\"), className=\"col\"), className=\"row\"),\n",
    "    \n",
    "    html.Div(html.Div(\n",
    "        dt.DataTable(\n",
    "        data=dft.to_dict('records'),\n",
    "        columns=[{'id': c, 'name': c.title().replace('_', ' ')} for c in dft.columns],\n",
    "        page_size=10,\n",
    "        sort_action='native',\n",
    "        filter_action=\"native\",\n",
    "        sort_by=[{\n",
    "            \"column_id\": 'total_cases',\n",
    "            \"direction\": \"desc\"\n",
    "                }],\n",
    "        style_cell_conditional=[\n",
    "        {\n",
    "            'if': {'column_id': c},\n",
    "            'textAlign': 'left'\n",
    "        } for c in ['Date', 'Region']\n",
    "        ],\n",
    "        style_data_conditional=[\n",
    "            {\n",
    "                'if': {'row_index': 'odd'},\n",
    "                'backgroundColor': 'rgb(248, 248, 248)'\n",
    "            },\n",
    "            {\n",
    "            'if': {\n",
    "                'filter_query': '{location} = \"World\"'\n",
    "            },\n",
    "            'backgroundColor': 'grey',\n",
    "            'color': 'white'\n",
    "            }\n",
    "        ],\n",
    "        style_header={\n",
    "            'backgroundColor': 'rgb(230, 230, 230)',\n",
    "            'fontWeight': 'bold'\n",
    "        }), className=\"col\"), className=\"row\"),\n",
    "    \n",
    "], className=\"container-fluid\")"
   ]
  },
  {
   "cell_type": "code",
   "execution_count": 959,
   "metadata": {},
   "outputs": [],
   "source": [
    "# Analysis tab content\n",
    "analysis_div = html.Div([\n",
    "    \n",
    "    html.Div(html.Div(\n",
    "        html.H2(\"Analysis of top \" +str(dpm_countries)+\" countries with highest deaths per million\"),\n",
    "        className=\"col\"), className=\"row\"),\n",
    "    \n",
    "    html.Div(html.Div(dcc.RadioItems(\n",
    "                id='parameter',\n",
    "                options=[{'label': i, 'value': i} for i in ['Hospital beds per thousand', 'Aged 65 or older(%)']],\n",
    "                value='Hospital beds per thousand',\n",
    "#                 labelStyle={'display': 'inline-block'}\n",
    "            ), className=\"col\"), className=\"row\"),\n",
    "    \n",
    "    html.Div(html.Div(dcc.Graph(id='deaths-per-million'), className=\"col\"), className=\"row\"),\n",
    "    \n",
    "], className=\"container-fluid\")"
   ]
  },
  {
   "cell_type": "code",
   "execution_count": 960,
   "metadata": {
    "scrolled": true
   },
   "outputs": [],
   "source": [
    "external_stylesheets = ['https://codepen.io/chriddyp/pen/bWLwgP.css']\n",
    "\n",
    "# app = JupyterDash(__name__, external_stylesheets=external_stylesheets)\n",
    "app = JupyterDash(__name__, external_stylesheets=[dbc.themes.BOOTSTRAP])\n",
    "\n",
    "# Create server variable with Flask server object for use with gunicorn\n",
    "server = app.server\n",
    "\n",
    "app.layout = html.Div([\n",
    "    html.Div([html.Div(header, className=\"col\"), html.Div(last_updated,className=\"col\")], className=\"row\"),\n",
    "    html.Div(html.Div(dcc.Tabs([\n",
    "        dcc.Tab(label='Daily Statistics', children=[\n",
    "            daily_stats_div\n",
    "        ]),\n",
    "        dcc.Tab(label='World Data', children=[\n",
    "            world_data_div\n",
    "        ]),\n",
    "        dcc.Tab(label='Analysis', children=[\n",
    "            analysis_div\n",
    "        ]),\n",
    "        dcc.Tab(label='Dataset', children=[\n",
    "        ]),\n",
    "    ]),className=\"col\"),className=\"row\"),\n",
    "], className=\"container-fluid\")"
   ]
  },
  {
   "cell_type": "code",
   "execution_count": 961,
   "metadata": {},
   "outputs": [],
   "source": [
    "# Daily stats tab callback\n",
    "@app.callback([\n",
    "    Output('daily-cases', 'figure'),\n",
    "    Output('daily-deaths', 'figure'),\n",
    "],\n",
    "[\n",
    "    Input('country-input', 'value'),\n",
    "])\n",
    "def update_daily_stats(country):\n",
    "    \n",
    "    dff = df[df.location == country]\n",
    "   \n",
    "    figure1 =  {\n",
    "        'data': [dict(\n",
    "            x=dff.date,\n",
    "            y=dff.new_cases,\n",
    "            type='bar',\n",
    "            marker={\n",
    "                'color': 'grey',\n",
    "            }\n",
    "        )],\n",
    "        'layout': dict(\n",
    "            margin={'l': 40, 'b': 30, 't': 60, 'r': 0},\n",
    "            hovermode='closest',\n",
    "            title={\n",
    "            'text': \"Daily new cases\",\n",
    "            'y':0.9,\n",
    "            'x':0.5,\n",
    "            'xanchor': 'center',\n",
    "            'yanchor': 'top',\n",
    "            'font': dict(size=20)\n",
    "            }\n",
    "        )\n",
    "    }\n",
    "    \n",
    "    figure2 =  {\n",
    "        'data': [dict(\n",
    "            x=dff.date,\n",
    "            y=dff.new_deaths,\n",
    "            type='bar',\n",
    "            marker={\n",
    "                'color': 'grey'\n",
    "            }\n",
    "        )],\n",
    "        'layout': dict(\n",
    "            margin={'l': 40, 'b': 30, 't': 60, 'r': 0},\n",
    "            hovermode='closest',\n",
    "            title={\n",
    "            'text': \"Daily new deaths\",\n",
    "            'y':0.9,\n",
    "            'x':0.5,\n",
    "            'xanchor': 'center',\n",
    "            'yanchor': 'top',\n",
    "            'font': dict(size=20)\n",
    "            }\n",
    "        )\n",
    "    }    \n",
    "    return figure1, figure2\n"
   ]
  },
  {
   "cell_type": "code",
   "execution_count": 962,
   "metadata": {},
   "outputs": [],
   "source": [
    "# Analysis tab callback\n",
    "@app.callback(\n",
    "    dash.dependencies.Output('deaths-per-million', 'figure'),\n",
    "[\n",
    "    dash.dependencies.Input('parameter', 'value')\n",
    "])\n",
    "def update_analysis(parameter):\n",
    "    test = df[['location', 'date', 'total_deaths_per_million', 'hospital_beds_per_thousand', 'aged_65_older', 'population']]\n",
    "    test = test[test.groupby(['location']).date.transform('max') == df.date]\n",
    "    data = test.dropna().reset_index().sort_values(\"total_deaths_per_million\", ascending=False).head(dpm_countries)\n",
    "    \n",
    "    y = data.hospital_beds_per_thousand\n",
    "    if(parameter == \"Aged 65 or older(%)\"):\n",
    "        y = data.aged_65_older\n",
    "    \n",
    "    figure =  {\n",
    "        'data': [\n",
    "                dict(\n",
    "            x=data.location,\n",
    "            y=y,\n",
    "#             name=parameter,\n",
    "#             customdata='Total deaths per million: '+str(data.total_deaths_per_million),\n",
    "            type='bar',\n",
    "#             mode='markers',\n",
    "            marker={\n",
    "#                 'size': 25,\n",
    "#                 'opacity': 0.7,\n",
    "                'color': 'orange',\n",
    "#                 'line': {'width': 2, 'color': 'purple'}\n",
    "            },\n",
    "            hovertext=\"Total deaths per million: \"+data.total_deaths_per_million.round(2).astype(str),\n",
    "        )],\n",
    "        'layout': dict(\n",
    "#             margin={'l': 40, 'b': 30, 't': 10, 'r': 0},\n",
    "#             height=450,\n",
    "#             hovermode='closest',\n",
    "            title= parameter\n",
    "        )\n",
    "    }\n",
    "    \n",
    "    return figure\n"
   ]
  },
  {
   "cell_type": "code",
   "execution_count": 963,
   "metadata": {},
   "outputs": [
    {
     "name": "stdout",
     "output_type": "stream",
     "text": [
      "Dash app running on http://127.0.0.1:8050/\n"
     ]
    }
   ],
   "source": [
    "app.run_server(debug=debug)"
   ]
  }
 ],
 "metadata": {
  "jupytext": {
   "formats": "ipynb,py:percent"
  },
  "kernelspec": {
   "display_name": "Python 3",
   "language": "python",
   "name": "python3"
  },
  "language_info": {
   "codemirror_mode": {
    "name": "ipython",
    "version": 3
   },
   "file_extension": ".py",
   "mimetype": "text/x-python",
   "name": "python",
   "nbconvert_exporter": "python",
   "pygments_lexer": "ipython3",
   "version": "3.8.5"
  }
 },
 "nbformat": 4,
 "nbformat_minor": 4
}
